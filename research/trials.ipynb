{
 "cells": [
  {
   "cell_type": "code",
   "execution_count": 2,
   "id": "d0c0776c",
   "metadata": {},
   "outputs": [],
   "source": [
    "from dotenv import load_dotenv\n",
    "import os"
   ]
  },
  {
   "cell_type": "code",
   "execution_count": 5,
   "id": "b54f43ec",
   "metadata": {},
   "outputs": [
    {
     "name": "stdout",
     "output_type": "stream",
     "text": [
      "dak_cd8989a182788a1b400e86de6fe3aee2c6c313a7df6a9f58f7f311d3d67ca465\n"
     ]
    }
   ],
   "source": [
    "load_dotenv()\n",
    "DAKAEI_API_KEY = os.getenv(\"DAKAEI_API_KEY\")\n",
    "print(DAKAEI_API_KEY)"
   ]
  }
 ],
 "metadata": {
  "kernelspec": {
   "display_name": "genai",
   "language": "python",
   "name": "python3"
  },
  "language_info": {
   "codemirror_mode": {
    "name": "ipython",
    "version": 3
   },
   "file_extension": ".py",
   "mimetype": "text/x-python",
   "name": "python",
   "nbconvert_exporter": "python",
   "pygments_lexer": "ipython3",
   "version": "3.8.20"
  }
 },
 "nbformat": 4,
 "nbformat_minor": 5
}
